{
 "cells": [
  {
   "cell_type": "markdown",
   "metadata": {},
   "source": [
    "## Graded Quiz using Teradata (Viewpoint and Scratchpad)\n",
    "### Queries to Extract Data from Single Tables\n",
    "#### Dillards Database (University of Arkansas)\n",
    "Consists of the following Tables:\n",
    "- DEPTINFO\n",
    "- SKSTINFO\n",
    "- SKSTINFO_FIX\n",
    "- SKUINFO\n",
    "- STORE_MSA\n",
    "- STRINFO\n",
    "- TRNSACT"
   ]
  },
  {
   "cell_type": "code",
   "execution_count": null,
   "metadata": {},
   "outputs": [],
   "source": [
    "#Question 2\n",
    "SELECT"
   ]
  },
  {
   "cell_type": "code",
   "execution_count": null,
   "metadata": {},
   "outputs": [],
   "source": [
    "#Question 3\n",
    "MYSQL"
   ]
  },
  {
   "cell_type": "code",
   "execution_count": null,
   "metadata": {},
   "outputs": [],
   "source": [
    "#Question 4\n",
    "DESCRIBE IN MySQL AND HELP IN Teradata"
   ]
  },
  {
   "cell_type": "code",
   "execution_count": null,
   "metadata": {
    "collapsed": true
   },
   "outputs": [],
   "source": [
    "#Question 5/6\n",
    "HELP TABLE STRINFO;\n"
   ]
  },
  {
   "cell_type": "code",
   "execution_count": null,
   "metadata": {
    "collapsed": true
   },
   "outputs": [],
   "source": [
    "#Question 7\n",
    "SELECT ORGPRICE\n",
    "FROM TRNSACT\n",
    "WHERE SKU = 3631365\n",
    "ORDER BY ORGPRICE DESC;"
   ]
  },
  {
   "cell_type": "code",
   "execution_count": null,
   "metadata": {
    "collapsed": true
   },
   "outputs": [],
   "source": [
    "#Question 8\n",
    "SELECT TOP 10 COLOR\n",
    "FROM SKUINFO\n",
    "WHERE BRAND LIKE '%LIZ CLAI%'\n",
    "ORDER BY SKU DESC;"
   ]
  },
  {
   "cell_type": "code",
   "execution_count": null,
   "metadata": {},
   "outputs": [],
   "source": [
    "#Question 9\n",
    "Comma after \"AMT\" IN Query"
   ]
  },
  {
   "cell_type": "code",
   "execution_count": null,
   "metadata": {
    "collapsed": true
   },
   "outputs": [],
   "source": [
    "#Question 10\n",
    "SELECT TOP 10 SKU, ORGPRICE\n",
    "FROM TRNSACT\n",
    "ORDER BY ORGPRICE DESC"
   ]
  },
  {
   "cell_type": "code",
   "execution_count": null,
   "metadata": {
    "collapsed": true
   },
   "outputs": [],
   "source": [
    "#Question 11\n",
    "SELECT DISTINCT STATE\n",
    "FROM STRINFO;"
   ]
  },
  {
   "cell_type": "code",
   "execution_count": null,
   "metadata": {
    "collapsed": true
   },
   "outputs": [],
   "source": [
    "#Question 12\n",
    "SELECT DEPTDESC\n",
    "FROM DEPTINFO\n",
    "WHERE DEPTDESC LIKE 'e%'\n"
   ]
  },
  {
   "cell_type": "code",
   "execution_count": null,
   "metadata": {
    "collapsed": true
   },
   "outputs": [],
   "source": [
    "#Question 13\n",
    "SELECT TOP 10 ORGPRICE, SPRICE, ORGPRICE - SPRICE AS MARGIN, SALEDATE\n",
    "FROM TRNSACT\n",
    "WHERE ORGPRICE<>SPRICE\n",
    "ORDER BY SALEDATE ASC, MARGIN DESC"
   ]
  },
  {
   "cell_type": "code",
   "execution_count": null,
   "metadata": {
    "collapsed": true
   },
   "outputs": [],
   "source": [
    "#Question 14\n",
    "SELECT TOP 10 REGISTER\n",
    "FROM TRNSACT\n",
    "WHERE SALEDATE BETWEEN '2004-08-01' AND '2004-08-10'\n",
    "ORDER BY ORGPRICE DESC, SPRICE DESC"
   ]
  },
  {
   "cell_type": "code",
   "execution_count": null,
   "metadata": {
    "collapsed": true
   },
   "outputs": [],
   "source": [
    "#Question 15\n",
    "SELECT DISTINCT BRAND\n",
    "FROM SKUINFO\n",
    "WHERE BRAND LIKE '%LIZ%'\n",
    "ORDER BY SKU DESC"
   ]
  },
  {
   "cell_type": "code",
   "execution_count": null,
   "metadata": {
    "collapsed": true
   },
   "outputs": [],
   "source": [
    "#Question 16\n",
    "SELECT STORE, CITY\n",
    "FROM STORE_MSA\n",
    "WHERE CITY IN('LITTLE ROCK','MEMPHIS','TULSA')\n",
    "ORDER BY STORE"
   ]
  }
 ],
 "metadata": {
  "kernelspec": {
   "display_name": "Python 3",
   "language": "python",
   "name": "python3"
  },
  "language_info": {
   "codemirror_mode": {
    "name": "ipython",
    "version": 3
   },
   "file_extension": ".py",
   "mimetype": "text/x-python",
   "name": "python",
   "nbconvert_exporter": "python",
   "pygments_lexer": "ipython3",
   "version": "3.6.5"
  }
 },
 "nbformat": 4,
 "nbformat_minor": 2
}
