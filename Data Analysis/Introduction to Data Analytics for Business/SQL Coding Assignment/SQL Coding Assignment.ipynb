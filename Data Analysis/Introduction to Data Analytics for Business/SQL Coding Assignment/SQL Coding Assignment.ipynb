{
 "cells": [
  {
   "cell_type": "markdown",
   "metadata": {},
   "source": [
    "## Introduction to Data Analytics in Business"
   ]
  },
  {
   "cell_type": "markdown",
   "metadata": {},
   "source": [
    "## SQL Coding"
   ]
  },
  {
   "cell_type": "markdown",
   "metadata": {},
   "source": [
    "### Question 1\n",
    "SELECT COUNT(*)\n",
    "<br>\n",
    "FROM PLANES;\n"
   ]
  },
  {
   "cell_type": "markdown",
   "metadata": {},
   "source": [
    "### Question 2\n",
    "SELECT AIRCRAFT_TYPE, TAIL_NUMBER FROM PLANES\n",
    "<br>\n",
    "WHERE SEAT_COUNT >= 100\n",
    "<br>\n",
    "ORDER BY SEAT_COUNT ASC;\n"
   ]
  },
  {
   "cell_type": "markdown",
   "metadata": {},
   "source": [
    "### Question 3\n",
    "SELECT COUNT(f.FLIGHT_ID) AS NUM_FLIGHTS, p.TAIL_NUMBER \n",
    "<br>\n",
    "FROM FLIGHTS AS f\n",
    "<br>\n",
    "INNER JOIN PLANES AS p\n",
    "<br>\n",
    "ON f.TAIL_NUMBER = p.TAIL_NUMBER\n",
    "<br>\n",
    "GROUP BY p.AIRCRAFT_TYPE, p.TAIL_NUMBER\n",
    "<br>\n",
    "ORDER BY NUM_FLIGHTS DESC;\n"
   ]
  },
  {
   "cell_type": "markdown",
   "metadata": {},
   "source": [
    "### Question 4\n",
    "SELECT TAIL_NUMBER, SUM(PASSENGER_COUNT) AS TOT_PASSENGERS \n",
    "<br>\n",
    "FROM FLIGHTS \n",
    "<br>\n",
    "GROUP BY TAIL_NUMBER \n",
    "<br>\n",
    "HAVING TOT_PASSENGERS > 600"
   ]
  },
  {
   "cell_type": "markdown",
   "metadata": {},
   "source": [
    "### Question 5\n",
    "SELECT COUNT(FLIGHT_ID) AS NUM_FLIGHTS, AIRPORTS.COUNTRY, FLIGHTS.DEPARTURE_AIRPORT\n",
    "<br>\n",
    "FROM FLIGHTS\n",
    "<br>\n",
    "INNER JOIN AIRPORTS\n",
    "<br>\n",
    "ON AIRPORTS.AIRPORT = FLIGHTS.DEPARTURE_AIRPORT\n",
    "<br>\n",
    "GROUP BY AIRPORTS.COUNTRY\n",
    "<br>\n",
    "HAVING AIRPORTS.COUNTRY = 'US'\n"
   ]
  },
  {
   "cell_type": "markdown",
   "metadata": {},
   "source": [
    "### Question 6\n",
    "SELECT COUNT(f.FLIGHT_ID) AS NUM_FLIGHTS, cp.REGIONALITY\n",
    "<br>\n",
    "FROM FLIGHTS AS f\n",
    "<br>\n",
    "INNER JOIN CITY_PAIRS AS cp\n",
    "<br>\n",
    "ON cp.DEPARTURE_AIRPORT = f.DEPARTURE_AIRPORT\n",
    "<br>\n",
    "AND cp.ARRIVAL_AIRPORT = f.ARRIVAL_AIRPORT\n",
    "<br>\n",
    "GROUP BY cp.REGIONALITY\n",
    "<br>\n",
    "ORDER BY NUM_FLIGHTS DESC;\n"
   ]
  },
  {
   "cell_type": "markdown",
   "metadata": {},
   "source": [
    "### Question 7\n",
    "SELECT COUNT(*) \n",
    "<br>\n",
    "FROM CITY_PAIRS\n",
    "<br>\n",
    "WHERE DEPARTURE_AIRPORT IN ('KLAX', 'KDEN', 'KORD', 'KDET', 'KLGA');\n"
   ]
  },
  {
   "cell_type": "markdown",
   "metadata": {},
   "source": [
    "### Question 8\n",
    "SELECT COUNT(*) \n",
    "<br>\n",
    "FROM AIRPORTS\n",
    "<br>\n",
    "WHERE ELEVATION IS NULL;\n"
   ]
  },
  {
   "cell_type": "markdown",
   "metadata": {},
   "source": [
    "### Question 9\n",
    "SELECT MIN(PASSENGER_COUNT) AS LOW_PCOUNT, FLIGHT_NUMBER\n",
    "<br>\n",
    "FROM FLIGHTS\n",
    "<br>\n",
    "ORDER BY LOW_PCOUNT;\n"
   ]
  },
  {
   "cell_type": "markdown",
   "metadata": {},
   "source": [
    "### Question 10\n",
    "SELECT AVG (cp.DISTANCE) AS AVG_DISTANCE \n",
    "<br>\n",
    "FROM CITY_PAIRS AS cp\n",
    "<br>\n",
    "LEFT JOIN FLIGHTS f\n",
    "<br>\n",
    "ON cp.DEPARTURE_AIRPORT = f.DEPARTURE_AIRPORT\n",
    "<br>\n",
    "AND cp.ARRIVAL_AIRPORT = f.ARRIVAL_AIRPORT\n",
    "<br>\n",
    "WHERE FLIGHT_NUMBER LIKE 'SKY%'\n",
    "\n"
   ]
  }
 ],
 "metadata": {
  "kernelspec": {
   "display_name": "Python 3",
   "language": "python",
   "name": "python3"
  },
  "language_info": {
   "codemirror_mode": {
    "name": "ipython",
    "version": 3
   },
   "file_extension": ".py",
   "mimetype": "text/x-python",
   "name": "python",
   "nbconvert_exporter": "python",
   "pygments_lexer": "ipython3",
   "version": "3.6.5"
  }
 },
 "nbformat": 4,
 "nbformat_minor": 2
}
