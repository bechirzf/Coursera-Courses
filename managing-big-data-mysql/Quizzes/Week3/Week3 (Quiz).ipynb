{
 "cells": [
  {
   "cell_type": "markdown",
   "metadata": {},
   "source": [
    "## Graded Quiz using Teradata (Viewpoint and Scratchpad)\n",
    "### Queries to Summarize Groups of Data from Multiple Tables\n",
    "#### Dillards Database (University of Arkansas)\n",
    "Consists of the following Tables:\n",
    "- DEPTINFO\n",
    "- SKSTINFO\n",
    "- SKSTINFO_FIX\n",
    "- SKUINFO\n",
    "- STORE_MSA\n",
    "- STRINFO\n",
    "- TRNSACT"
   ]
  },
  {
   "cell_type": "code",
   "execution_count": null,
   "metadata": {},
   "outputs": [],
   "source": [
    "#Question 2\n",
    "RIGHT JOIN"
   ]
  },
  {
   "cell_type": "code",
   "execution_count": null,
   "metadata": {},
   "outputs": [],
   "source": [
    "#Question 3\n",
    "SELECT SALEDATE, SUM(AMT) AS TotalPurchases\n",
    "FROM TRNSACT \n",
    "WHERE STYPE = 'p'\n",
    "GROUP BY SALEDATE\n",
    "ORDER BY TotalPurchases DESC"
   ]
  },
  {
   "cell_type": "code",
   "execution_count": null,
   "metadata": {},
   "outputs": [],
   "source": [
    "#Question 4\n",
    "SELECT DI.DEPTDESC, COUNT(SI.SKU) AS NumofSKU\n",
    "FROM DEPTINFO DI, SKUINFO SI\n",
    "WHERE DI.DEPT=SI.DEPT\n",
    "GROUP BY DI.DEPTDESC\n",
    "ORDER BY NumofSKU DESC;"
   ]
  },
  {
   "cell_type": "code",
   "execution_count": null,
   "metadata": {},
   "outputs": [],
   "source": [
    "#Question 5\n",
    "SELECT COUNT(DISTINCT SKU)\n",
    "FROM TRNSACT;"
   ]
  },
  {
   "cell_type": "code",
   "execution_count": null,
   "metadata": {},
   "outputs": [],
   "source": [
    "#Question 6\n",
    "SELECT ST.SKU, SI.SKU\n",
    "FROM SKSTINFO AS ST\n",
    "FULL OUTER JOIN SKUINFO AS SI\n",
    "ON ST.SKU=SI.SKU\n",
    "WHERE SI.SKU IS NULL"
   ]
  },
  {
   "cell_type": "code",
   "execution_count": null,
   "metadata": {},
   "outputs": [],
   "source": [
    "#Question 7\n",
    "SELECT SUM(AMT-(COST*QUANTITY))/COUNT(DISTINCT SALEDATE) AS AVG_SALES\n",
    "FROM TRNSACT T JOIN SKSTINFO SI\n",
    "ON T.SKU=SI.SKU AND T.STORE=SI.STORE\n",
    "WHERE STYPE='P'"
   ]
  },
  {
   "cell_type": "code",
   "execution_count": null,
   "metadata": {},
   "outputs": [],
   "source": [
    "#Question 8\n",
    "SELECT COUNT(DISTINCT MSA), MIN(MSA_POP), MAX(MSA_INCOME)\n",
    "FROM STORE_MSA\n",
    "WHERE STATE='NC'"
   ]
  },
  {
   "cell_type": "code",
   "execution_count": null,
   "metadata": {},
   "outputs": [],
   "source": [
    "#Question 9\n",
    "SELECT DI.DEPT, DI.DEPTDESC, SI.BRAND, SI.STYLE, SI.COLOR, SUM(SPRICE) AS TotalSales\n",
    "FROM DEPTINFO DI\n",
    "INNER JOIN SKUINFO SI\n",
    "ON DI.DEPT = SI.DEPT\n",
    "INNER JOIN TRNSACT T\n",
    "ON SI.SKU = T.SKU\n",
    "GROUP BY DI.DEPT, DI.DEPTDESC, SI.BRAND, SI.STYLE, SI.COLOR\n",
    "ORDER BY TotalSales DESC"
   ]
  },
  {
   "cell_type": "code",
   "execution_count": null,
   "metadata": {},
   "outputs": [],
   "source": [
    "#Question 10\n",
    "SELECT S.STORE AS NumberofStores, COUNT(DISTINCT SI.SKU) AS UniqueSKU\n",
    "FROM STRINFO S, SKSTINFO SI\n",
    "WHERE S.STORE=SI.STORE\n",
    "GROUP BY S.STORE\n",
    "HAVING UniqueSKU > 180000"
   ]
  },
  {
   "cell_type": "code",
   "execution_count": null,
   "metadata": {},
   "outputs": [],
   "source": [
    "#Question 11\n",
    "SELECT DISTINCT S.SKU, S.DEPT, S.STYLE, S.COLOR, S.VENDOR, S.BRAND, S.PACKSIZE, D.DEPTDESC, ST.RETAIL, ST.COST\n",
    "FROM SKUINFO S JOIN DEPTINFO D\n",
    "ON S.DEPT = D.DEPT JOIN SKSTINFO ST\n",
    "ON S.SKU = ST.SKU\n",
    "WHERE D.DEPTDESC='COP' AND S.BRAND='FEDERAL' AND S.COLOR='RINSE WASH'"
   ]
  },
  {
   "cell_type": "code",
   "execution_count": null,
   "metadata": {},
   "outputs": [],
   "source": [
    "#Question 12\n",
    "SELECT ST.SKU, SI.SKU\n",
    "FROM SKSTINFO AS ST\n",
    "FULL OUTER JOIN SKUINFO AS SI\n",
    "ON ST.SKU=SI.SKU\n",
    "WHERE ST.SKU IS NULL"
   ]
  },
  {
   "cell_type": "code",
   "execution_count": null,
   "metadata": {},
   "outputs": [],
   "source": [
    "#Question 13\n",
    "SELECT S.CITY, S.STATE, SUM(T.AMT) AS TotalSales\n",
    "FROM STRINFO AS S\n",
    "INNER JOIN TRNSACT AS T\n",
    "ON S.STORE = T.STORE\n",
    "GROUP BY S.CITY, S.STATE\n",
    "ORDER BY TotalSales DESC"
   ]
  },
  {
   "cell_type": "code",
   "execution_count": null,
   "metadata": {},
   "outputs": [],
   "source": [
    "#Question 14\n",
    "LEFT JOIN"
   ]
  },
  {
   "cell_type": "code",
   "execution_count": null,
   "metadata": {},
   "outputs": [],
   "source": [
    "#Question 15\n",
    "SELECT STATE, COUNT(STORE) AS NumofStores\n",
    "FROM STRINFO\n",
    "GROUP BY STATE\n",
    "HAVING NumofStores > 10\n",
    "ORDER BY NumofStores;"
   ]
  },
  {
   "cell_type": "code",
   "execution_count": null,
   "metadata": {},
   "outputs": [],
   "source": [
    "#Question 16\n",
    "SELECT ST.RETAIL AS Price\n",
    "FROM SKSTINFO ST, SKUINFO SI\n",
    "ON ST.SKU=SI.SKU\n",
    "JOIN DEPTINFO DI\n",
    "ON DI.DEPT=SI.DEPT\n",
    "WHERE DI.DEPTDESC='REEBOK' AND SI.BRAND='SKECHERS' AND SI.COLOR='WHT/SAPHIRE'"
   ]
  }
 ],
 "metadata": {
  "kernelspec": {
   "display_name": "Python 3",
   "language": "python",
   "name": "python3"
  },
  "language_info": {
   "codemirror_mode": {
    "name": "ipython",
    "version": 3
   },
   "file_extension": ".py",
   "mimetype": "text/x-python",
   "name": "python",
   "nbconvert_exporter": "python",
   "pygments_lexer": "ipython3",
   "version": "3.6.5"
  }
 },
 "nbformat": 4,
 "nbformat_minor": 2
}
